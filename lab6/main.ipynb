{
 "cells": [
  {
   "cell_type": "code",
   "execution_count": null,
   "outputs": [],
   "source": [
    "# Imports\n",
    "from scipy.fft import fft\n",
    "import numpy as np"
   ],
   "metadata": {
    "collapsed": false
   },
   "id": "8804f60522cd3983"
  },
  {
   "cell_type": "markdown",
   "source": [
    "Zadanie 5. Oblicz dyskretną transformatę Fouriera sygnału x = [1, 2, 1, 1]."
   ],
   "metadata": {
    "collapsed": false
   },
   "id": "5664bdbbf83c9e77"
  },
  {
   "cell_type": "code",
   "execution_count": 9,
   "outputs": [
    {
     "name": "stdout",
     "output_type": "stream",
     "text": [
      "[ 5.+0.j  0.-1.j -1.+0.j  0.+1.j]\n"
     ]
    }
   ],
   "source": [
    "x = np.array([1, 2, 1, 1])\n",
    "\n",
    "dft_result = np.fft.fft(x)\n",
    "\n",
    "print(dft_result)\n"
   ],
   "metadata": {
    "collapsed": false,
    "ExecuteTime": {
     "end_time": "2023-11-06T11:21:05.667113Z",
     "start_time": "2023-11-06T11:21:05.662717600Z"
    }
   },
   "id": "849d2510ad9605be"
  },
  {
   "cell_type": "markdown",
   "source": [
    "Zadanie 6. Wykonaj transformatę Fouriera podanych sygnałów korzystając z\n",
    "funkcji fft(x)(Fast Fourier Transform) oraz ifft(x)(Inverse Fast Fourier Transform).\n",
    "• [4, 3, 7, 3]\n",
    "• [2, 3, 4, 1, 5]\n",
    "• [1, 3, 4, 6, −9, 0, 0, 0]\n",
    "Zauważ, że dla sygnału rzeczywistego transformata może być zespolona"
   ],
   "metadata": {
    "collapsed": false
   },
   "id": "86f52e8b7f7c483"
  },
  {
   "cell_type": "code",
   "execution_count": 3,
   "id": "initial_id",
   "metadata": {
    "collapsed": true,
    "ExecuteTime": {
     "end_time": "2023-11-06T11:10:33.942018900Z",
     "start_time": "2023-11-06T11:10:33.919360500Z"
    }
   },
   "outputs": [
    {
     "data": {
      "text/plain": "array([ 4.5       -0.j        ,  2.08155948-1.65109876j,\n       -1.83155948+1.60822041j, -1.83155948-1.60822041j,\n        2.08155948+1.65109876j])"
     },
     "execution_count": 3,
     "metadata": {},
     "output_type": "execute_result"
    }
   ],
   "source": [
    "x = np.array([1.0, 2.0, 1.0, -1.0, 1.5])\n",
    "\n",
    "fft(x)"
   ]
  },
  {
   "cell_type": "code",
   "execution_count": 4,
   "outputs": [
    {
     "data": {
      "text/plain": "array([17.-0.j, -3.+0.j,  5.-0.j, -3.-0.j])"
     },
     "execution_count": 4,
     "metadata": {},
     "output_type": "execute_result"
    }
   ],
   "source": [
    "x = np.array([4, 3, 7, 3])\n",
    "\n",
    "fft(x)"
   ],
   "metadata": {
    "collapsed": false,
    "ExecuteTime": {
     "end_time": "2023-11-06T11:11:47.625616500Z",
     "start_time": "2023-11-06T11:11:47.609216900Z"
    }
   },
   "id": "c382167b3ad9861e"
  },
  {
   "cell_type": "code",
   "execution_count": 5,
   "outputs": [
    {
     "data": {
      "text/plain": "array([15.        -0.j        ,  0.42705098+0.13875728j,\n       -2.92705098+4.02874005j, -2.92705098-4.02874005j,\n        0.42705098-0.13875728j])"
     },
     "execution_count": 5,
     "metadata": {},
     "output_type": "execute_result"
    }
   ],
   "source": [
    "x = np.array([2, 3, 4, 1, 5])\n",
    "\n",
    "fft(x)"
   ],
   "metadata": {
    "collapsed": false,
    "ExecuteTime": {
     "end_time": "2023-11-06T11:12:32.321749200Z",
     "start_time": "2023-11-06T11:12:32.317566100Z"
    }
   },
   "id": "80b54e8607598622"
  },
  {
   "cell_type": "code",
   "execution_count": 7,
   "outputs": [
    {
     "data": {
      "text/plain": "array([  5.         -0.j        ,   7.87867966-10.36396103j,\n       -12.         +3.j        ,  12.12132034 -2.36396103j,\n       -13.         -0.j        ,  12.12132034 +2.36396103j,\n       -12.         -3.j        ,   7.87867966+10.36396103j])"
     },
     "execution_count": 7,
     "metadata": {},
     "output_type": "execute_result"
    }
   ],
   "source": [
    "x = np.array([1, 3, 4, 6, -9, 0, 0, 0])\n",
    "\n",
    "fft(x)"
   ],
   "metadata": {
    "collapsed": false,
    "ExecuteTime": {
     "end_time": "2023-11-06T11:14:06.928841700Z",
     "start_time": "2023-11-06T11:14:06.922430Z"
    }
   },
   "id": "ee19928e2173c081"
  }
 ],
 "metadata": {
  "kernelspec": {
   "display_name": "Python 3",
   "language": "python",
   "name": "python3"
  },
  "language_info": {
   "codemirror_mode": {
    "name": "ipython",
    "version": 2
   },
   "file_extension": ".py",
   "mimetype": "text/x-python",
   "name": "python",
   "nbconvert_exporter": "python",
   "pygments_lexer": "ipython2",
   "version": "2.7.6"
  }
 },
 "nbformat": 4,
 "nbformat_minor": 5
}
